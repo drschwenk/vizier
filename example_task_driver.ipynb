{
 "cells": [
  {
   "cell_type": "code",
   "execution_count": 2,
   "metadata": {
    "run_control": {
     "frozen": false,
     "read_only": false
    }
   },
   "outputs": [],
   "source": [
    "from vizier.vizier import Vizier"
   ]
  },
  {
   "cell_type": "markdown",
   "metadata": {
    "run_control": {
     "frozen": false,
     "read_only": false
    }
   },
   "source": [
    "# 2. Submitting HITs- in and out"
   ]
  },
  {
   "cell_type": "code",
   "execution_count": 4,
   "metadata": {
    "code_folding": [],
    "run_control": {
     "frozen": false,
     "read_only": false
    }
   },
   "outputs": [],
   "source": [
    "static_params = {\n",
    "    'Title': \"\",\n",
    "    'Description': \"\",\n",
    "    'Keywords': \"\",\n",
    "    'frame_height': 1170,\n",
    "    'Reward': f'{0.05}',\n",
    "    'AssignmentDurationInSeconds': 3600 * 1,\n",
    "    'AutoApprovalDelayInSeconds': 3600 * 24 * 2,\n",
    "    'LifetimeInSeconds': 3600 * 24 * 1,\n",
    "    'MaxAssignments': 1,\n",
    "}\n",
    "\n",
    "template_params = {\n",
    "    'template_file': 'iconary_template.html', \n",
    "    'template_dir': 'hit_templates' \n",
    "}\n",
    "\n",
    "client_params = {\n",
    "    'aws_access_key_id': mturk_ai2.access_key,\n",
    "    'aws_secret_access_key': mturk_ai2.access_secret_key, \n",
    "    'profile_name': None,\n",
    "    'in_sandbox': True,\n",
    "    'n_threads': 1,\n",
    "    's3_base_path': '',\n",
    "}\n",
    "vizier = Vizier(**client_params)"
   ]
  },
  {
   "cell_type": "code",
   "execution_count": 5,
   "metadata": {
    "run_control": {
     "frozen": false,
     "read_only": false
    }
   },
   "outputs": [],
   "source": [
    "def gen_task_template_args():\n",
    "    return {'global_id': ''}"
   ]
  },
  {
   "cell_type": "code",
   "execution_count": 1917,
   "metadata": {
    "run_control": {
     "frozen": false,
     "read_only": false
    }
   },
   "outputs": [],
   "source": [
    "vizier.preview_hit_interface(template_params, **gen_task_template_args())"
   ]
  },
  {
   "cell_type": "code",
   "execution_count": 1898,
   "metadata": {
    "run_control": {
     "frozen": false,
     "read_only": false
    }
   },
   "outputs": [],
   "source": [
    "number_of_games_to_submit = 5"
   ]
  },
  {
   "cell_type": "code",
   "execution_count": 1899,
   "metadata": {
    "run_control": {
     "frozen": false,
     "read_only": false
    }
   },
   "outputs": [
    {
     "name": "stdout",
     "output_type": "stream",
     "text": [
      "Batch will cost $1.50\n"
     ]
    }
   ],
   "source": [
    "_ = vizier.expected_cost(range(number_of_games_to_submit), basic_hit_params=static_params)"
   ]
  },
  {
   "cell_type": "code",
   "execution_count": 1907,
   "metadata": {
    "run_control": {
     "frozen": false,
     "read_only": false
    }
   },
   "outputs": [],
   "source": [
    "# created_hits = vizier.create_hit_group(range(number_of_games_to_submit), gen_task_template_args, basic_hit_params=static_params, template_params=template_params)"
   ]
  },
  {
   "cell_type": "markdown",
   "metadata": {},
   "source": [
    "# 3. Retreive results"
   ]
  },
  {
   "cell_type": "code",
   "execution_count": 1908,
   "metadata": {
    "run_control": {
     "frozen": false,
     "read_only": false
    }
   },
   "outputs": [
    {
     "name": "stdout",
     "output_type": "stream",
     "text": [
      "Account balance is: $200.27\n"
     ]
    }
   ],
   "source": [
    "client_params = {\n",
    "    'aws_access_key_id': mturk_ai2.access_key,\n",
    "    'aws_secret_access_key': mturk_ai2.access_secret_key, \n",
    "    'profile_name': None,\n",
    "    'in_sandbox': False,\n",
    "    'n_threads': 5,\n",
    "    's3_base_path': '',\n",
    "}\n",
    "vizier_retriever = Vizier(**client_params)"
   ]
  },
  {
   "cell_type": "code",
   "execution_count": 1909,
   "metadata": {
    "run_control": {
     "frozen": false,
     "read_only": false
    }
   },
   "outputs": [],
   "source": [
    "submitted_hits = vizier_retriever.unpickle_this('./hit_batch.pkl')\n",
    "hit_batch = [h['HIT'] for h in submitted_hits if h]"
   ]
  },
  {
   "cell_type": "code",
   "execution_count": 1913,
   "metadata": {
    "run_control": {
     "frozen": false,
     "read_only": false
    }
   },
   "outputs": [
    {
     "name": "stdout",
     "output_type": "stream",
     "text": [
      "CPU times: user 373 ms, sys: 46.2 ms, total: 419 ms\n",
      "Wall time: 4.05 s\n"
     ]
    }
   ],
   "source": [
    "%%time\n",
    "latest_res = vizier_retriever.get_assignments(hit_batch)"
   ]
  },
  {
   "cell_type": "code",
   "execution_count": 1911,
   "metadata": {
    "run_control": {
     "frozen": false,
     "read_only": false
    }
   },
   "outputs": [],
   "source": [
    "assignment_batch = [a for r in latest_res for a in r['Assignments']]"
   ]
  },
  {
   "cell_type": "code",
   "execution_count": 1890,
   "metadata": {
    "run_control": {
     "frozen": false,
     "read_only": false
    }
   },
   "outputs": [],
   "source": [
    "vizier_retriever.pickle_this(assignment_batch, '')"
   ]
  },
  {
   "cell_type": "markdown",
   "metadata": {
    "heading_collapsed": true
   },
   "source": [
    "# 4. approve"
   ]
  },
  {
   "cell_type": "code",
   "execution_count": 73,
   "metadata": {
    "hidden": true,
    "run_control": {
     "frozen": false,
     "read_only": false
    }
   },
   "outputs": [],
   "source": [
    "# mt_client.approve_assignments()"
   ]
  },
  {
   "cell_type": "code",
   "execution_count": null,
   "metadata": {
    "hidden": true,
    "run_control": {
     "frozen": false,
     "read_only": false
    }
   },
   "outputs": [],
   "source": []
  }
 ],
 "metadata": {
  "kernelspec": {
   "display_name": "Python 3",
   "language": "python",
   "name": "python3"
  },
  "language_info": {
   "codemirror_mode": {
    "name": "ipython",
    "version": 3
   },
   "file_extension": ".py",
   "mimetype": "text/x-python",
   "name": "python",
   "nbconvert_exporter": "python",
   "pygments_lexer": "ipython3",
   "version": "3.6.5"
  }
 },
 "nbformat": 4,
 "nbformat_minor": 1
}
